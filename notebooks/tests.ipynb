{
 "cells": [
  {
   "cell_type": "code",
   "execution_count": 5,
   "metadata": {},
   "outputs": [],
   "source": [
    "import gradio as gr\n",
    "import paho.mqtt.client as mqtt\n",
    "import pandas as pd\n",
    "import time\n",
    "from influxdb_client_3 import InfluxDBClient3\n",
    "import threading\n",
    "from datetime import datetime\n",
    "import plotly.express as px\n",
    "import plotly.graph_objects as go\n",
    "import os"
   ]
  },
  {
   "cell_type": "code",
   "execution_count": 18,
   "metadata": {},
   "outputs": [],
   "source": [
    "INFLUXDB_URL = \"https://us-east-1-1.aws.cloud2.influxdata.com/\"\n",
    "\n",
    "INFLUXDB_ORG = \"dd7895c825a7c36a\"\n",
    "INFLUXDB_BUCKET = \"machine_monitoring\"\n",
    "influx_client = InfluxDBClient3(host=INFLUXDB_URL, token=INFLUXDB_TOKEN, org=INFLUXDB_ORG,database=\"machine_monitoring\")\n"
   ]
  },
  {
   "cell_type": "code",
   "execution_count": null,
   "metadata": {},
   "outputs": [],
   "source": []
  },
  {
   "cell_type": "code",
   "execution_count": 19,
   "metadata": {},
   "outputs": [],
   "source": [
    "def query_influxdb(query):\n",
    "    table = influx_client.query(query=query, language=\"sql\")\n",
    "    df = table.to_pandas().sort_values(by=\"time\")\n",
    "    return df"
   ]
  },
  {
   "cell_type": "code",
   "execution_count": 23,
   "metadata": {},
   "outputs": [],
   "source": [
    "\n",
    "query = '''\n",
    "    SELECT *\n",
    "    FROM \"fan\"\n",
    "    WHERE time >= now() - interval '2 week'\n",
    "    '''\n"
   ]
  },
  {
   "cell_type": "code",
   "execution_count": 24,
   "metadata": {},
   "outputs": [
    {
     "data": {
      "text/html": [
       "<div>\n",
       "<style scoped>\n",
       "    .dataframe tbody tr th:only-of-type {\n",
       "        vertical-align: middle;\n",
       "    }\n",
       "\n",
       "    .dataframe tbody tr th {\n",
       "        vertical-align: top;\n",
       "    }\n",
       "\n",
       "    .dataframe thead th {\n",
       "        text-align: right;\n",
       "    }\n",
       "</style>\n",
       "<table border=\"1\" class=\"dataframe\">\n",
       "  <thead>\n",
       "    <tr style=\"text-align: right;\">\n",
       "      <th></th>\n",
       "      <th>current</th>\n",
       "      <th>description</th>\n",
       "      <th>host</th>\n",
       "      <th>humidity</th>\n",
       "      <th>location</th>\n",
       "      <th>sensor</th>\n",
       "      <th>temperature</th>\n",
       "      <th>time</th>\n",
       "      <th>topic</th>\n",
       "    </tr>\n",
       "  </thead>\n",
       "  <tbody>\n",
       "    <tr>\n",
       "      <th>0</th>\n",
       "      <td>0.00250</td>\n",
       "      <td>Partly cloudy</td>\n",
       "      <td>williamvanbuskirk-MacBook-Pro</td>\n",
       "      <td>60.0</td>\n",
       "      <td>Chicago</td>\n",
       "      <td>S1</td>\n",
       "      <td>72.5</td>\n",
       "      <td>2024-10-06 01:09:17.800669</td>\n",
       "      <td>test_fan</td>\n",
       "    </tr>\n",
       "    <tr>\n",
       "      <th>1</th>\n",
       "      <td>0.00226</td>\n",
       "      <td>Partly cloudy</td>\n",
       "      <td>williamvanbuskirk-MacBook-Pro</td>\n",
       "      <td>60.0</td>\n",
       "      <td>Chicago</td>\n",
       "      <td>S1</td>\n",
       "      <td>72.5</td>\n",
       "      <td>2024-10-06 01:09:18.801087</td>\n",
       "      <td>test_fan</td>\n",
       "    </tr>\n",
       "    <tr>\n",
       "      <th>2</th>\n",
       "      <td>0.00214</td>\n",
       "      <td>Partly cloudy</td>\n",
       "      <td>williamvanbuskirk-MacBook-Pro</td>\n",
       "      <td>60.0</td>\n",
       "      <td>Chicago</td>\n",
       "      <td>S1</td>\n",
       "      <td>72.5</td>\n",
       "      <td>2024-10-06 01:09:19.841504</td>\n",
       "      <td>test_fan</td>\n",
       "    </tr>\n",
       "    <tr>\n",
       "      <th>3</th>\n",
       "      <td>0.00190</td>\n",
       "      <td>Partly cloudy</td>\n",
       "      <td>williamvanbuskirk-MacBook-Pro</td>\n",
       "      <td>60.0</td>\n",
       "      <td>Chicago</td>\n",
       "      <td>S1</td>\n",
       "      <td>72.5</td>\n",
       "      <td>2024-10-06 01:09:21.296156</td>\n",
       "      <td>test_fan</td>\n",
       "    </tr>\n",
       "    <tr>\n",
       "      <th>4</th>\n",
       "      <td>0.00166</td>\n",
       "      <td>Partly cloudy</td>\n",
       "      <td>williamvanbuskirk-MacBook-Pro</td>\n",
       "      <td>60.0</td>\n",
       "      <td>Chicago</td>\n",
       "      <td>S1</td>\n",
       "      <td>72.5</td>\n",
       "      <td>2024-10-06 01:09:22.797416</td>\n",
       "      <td>test_fan</td>\n",
       "    </tr>\n",
       "  </tbody>\n",
       "</table>\n",
       "</div>"
      ],
      "text/plain": [
       "   current    description                           host  humidity location  \\\n",
       "0  0.00250  Partly cloudy  williamvanbuskirk-MacBook-Pro      60.0  Chicago   \n",
       "1  0.00226  Partly cloudy  williamvanbuskirk-MacBook-Pro      60.0  Chicago   \n",
       "2  0.00214  Partly cloudy  williamvanbuskirk-MacBook-Pro      60.0  Chicago   \n",
       "3  0.00190  Partly cloudy  williamvanbuskirk-MacBook-Pro      60.0  Chicago   \n",
       "4  0.00166  Partly cloudy  williamvanbuskirk-MacBook-Pro      60.0  Chicago   \n",
       "\n",
       "  sensor  temperature                       time     topic  \n",
       "0     S1         72.5 2024-10-06 01:09:17.800669  test_fan  \n",
       "1     S1         72.5 2024-10-06 01:09:18.801087  test_fan  \n",
       "2     S1         72.5 2024-10-06 01:09:19.841504  test_fan  \n",
       "3     S1         72.5 2024-10-06 01:09:21.296156  test_fan  \n",
       "4     S1         72.5 2024-10-06 01:09:22.797416  test_fan  "
      ]
     },
     "execution_count": 24,
     "metadata": {},
     "output_type": "execute_result"
    }
   ],
   "source": [
    "df = query_influxdb(query)\n",
    "\n",
    "df.head()"
   ]
  },
  {
   "cell_type": "code",
   "execution_count": 25,
   "metadata": {},
   "outputs": [],
   "source": [
    "table = influx_client.query(query=query, language=\"sql\")"
   ]
  },
  {
   "cell_type": "code",
   "execution_count": 26,
   "metadata": {},
   "outputs": [
    {
     "data": {
      "text/plain": [
       "pyarrow.Table\n",
       "current: double\n",
       "description: string\n",
       "host: string\n",
       "humidity: double\n",
       "location: string\n",
       "sensor: string\n",
       "temperature: double\n",
       "time: timestamp[ns] not null\n",
       "topic: string\n",
       "----\n",
       "current: [[0.0025,0.0022600000000000003,0.0021400000000000004,0.0019,0.00166,...,0.0025000000000000005,0.00232,0.00202,0.00184,0.00184]]\n",
       "description: [[\"Partly cloudy\",\"Partly cloudy\",\"Partly cloudy\",\"Partly cloudy\",\"Partly cloudy\",...,\"Partly cloudy\",\"Partly cloudy\",\"Partly cloudy\",\"Partly cloudy\",\"Partly cloudy\"]]\n",
       "host: [[\"williamvanbuskirk-MacBook-Pro\",\"williamvanbuskirk-MacBook-Pro\",\"williamvanbuskirk-MacBook-Pro\",\"williamvanbuskirk-MacBook-Pro\",\"williamvanbuskirk-MacBook-Pro\",...,\"williamvanbuskirk-MacBook-Pro\",\"williamvanbuskirk-MacBook-Pro\",\"williamvanbuskirk-MacBook-Pro\",\"williamvanbuskirk-MacBook-Pro\",\"williamvanbuskirk-MacBook-Pro\"]]\n",
       "humidity: [[60,60,60,60,60,...,60,60,60,60,60]]\n",
       "location: [[\"Chicago\",\"Chicago\",\"Chicago\",\"Chicago\",\"Chicago\",...,\"Chicago\",\"Chicago\",\"Chicago\",\"Chicago\",\"Chicago\"]]\n",
       "sensor: [[\"S1\",\"S1\",\"S1\",\"S1\",\"S1\",...,\"S1\",\"S1\",\"S1\",\"S1\",\"S1\"]]\n",
       "temperature: [[72.5,72.5,72.5,72.5,72.5,...,72.5,72.5,72.5,72.5,72.5]]\n",
       "time: [[2024-10-06 01:09:17.800669000,2024-10-06 01:09:18.801087000,2024-10-06 01:09:19.841504000,2024-10-06 01:09:21.296156000,2024-10-06 01:09:22.797416000,...,2024-10-06 16:28:05.520067000,2024-10-06 16:28:06.522940000,2024-10-06 16:28:07.947039000,2024-10-06 16:28:08.941063000,2024-10-06 16:28:10.445205000]]\n",
       "topic: [[\"test_fan\",\"test_fan\",\"test_fan\",\"test_fan\",\"test_fan\",...,\"test_fan\",\"test_fan\",\"test_fan\",\"test_fan\",\"test_fan\"]]"
      ]
     },
     "execution_count": 26,
     "metadata": {},
     "output_type": "execute_result"
    }
   ],
   "source": [
    "table"
   ]
  },
  {
   "cell_type": "code",
   "execution_count": null,
   "metadata": {},
   "outputs": [],
   "source": []
  }
 ],
 "metadata": {
  "kernelspec": {
   "display_name": "base",
   "language": "python",
   "name": "python3"
  },
  "language_info": {
   "codemirror_mode": {
    "name": "ipython",
    "version": 3
   },
   "file_extension": ".py",
   "mimetype": "text/x-python",
   "name": "python",
   "nbconvert_exporter": "python",
   "pygments_lexer": "ipython3",
   "version": "3.10.9"
  },
  "orig_nbformat": 4
 },
 "nbformat": 4,
 "nbformat_minor": 2
}
